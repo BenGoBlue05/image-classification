{
 "cells": [
  {
   "cell_type": "markdown",
   "metadata": {
    "collapsed": true,
    "deletable": true,
    "editable": true
   },
   "source": [
    "# Image Classification\n",
    "In this project, you'll classify images from the [CIFAR-10 dataset](https://www.cs.toronto.edu/~kriz/cifar.html).  The dataset consists of airplanes, dogs, cats, and other objects. You'll preprocess the images, then train a convolutional neural network on all the samples. The images need to be normalized and the labels need to be one-hot encoded.  You'll get to apply what you learned and build a convolutional, max pooling, dropout, and fully connected layers.  At the end, you'll get to see your neural network's predictions on the sample images.\n",
    "## Get the Data\n",
    "Run the following cell to download the [CIFAR-10 dataset for python](https://www.cs.toronto.edu/~kriz/cifar-10-python.tar.gz)."
   ]
  },
  {
   "cell_type": "code",
   "execution_count": 132,
   "metadata": {
    "collapsed": false,
    "deletable": true,
    "editable": true
   },
   "outputs": [
    {
     "name": "stdout",
     "output_type": "stream",
     "text": [
      "All files found!\n"
     ]
    }
   ],
   "source": [
    "\"\"\"\n",
    "DON'T MODIFY ANYTHING IN THIS CELL THAT IS BELOW THIS LINE\n",
    "\"\"\"\n",
    "from urllib.request import urlretrieve\n",
    "from os.path import isfile, isdir\n",
    "from tqdm import tqdm\n",
    "import problem_unittests as tests\n",
    "import tarfile\n",
    "\n",
    "cifar10_dataset_folder_path = 'cifar-10-batches-py'\n",
    "\n",
    "class DLProgress(tqdm):\n",
    "    last_block = 0\n",
    "\n",
    "    def hook(self, block_num=1, block_size=1, total_size=None):\n",
    "        self.total = total_size\n",
    "        self.update((block_num - self.last_block) * block_size)\n",
    "        self.last_block = block_num\n",
    "\n",
    "if not isfile('cifar-10-python.tar.gz'):\n",
    "    with DLProgress(unit='B', unit_scale=True, miniters=1, desc='CIFAR-10 Dataset') as pbar:\n",
    "        urlretrieve(\n",
    "            'https://www.cs.toronto.edu/~kriz/cifar-10-python.tar.gz',\n",
    "            'cifar-10-python.tar.gz',\n",
    "            pbar.hook)\n",
    "\n",
    "if not isdir(cifar10_dataset_folder_path):\n",
    "    with tarfile.open('cifar-10-python.tar.gz') as tar:\n",
    "        tar.extractall()\n",
    "        tar.close()\n",
    "\n",
    "\n",
    "tests.test_folder_path(cifar10_dataset_folder_path)"
   ]
  },
  {
   "cell_type": "markdown",
   "metadata": {
    "deletable": true,
    "editable": true
   },
   "source": [
    "## Explore the Data\n",
    "The dataset is broken into batches to prevent your machine from running out of memory.  The CIFAR-10 dataset consists of 5 batches, named `data_batch_1`, `data_batch_2`, etc.. Each batch contains the labels and images that are one of the following:\n",
    "* airplane\n",
    "* automobile\n",
    "* bird\n",
    "* cat\n",
    "* deer\n",
    "* dog\n",
    "* frog\n",
    "* horse\n",
    "* ship\n",
    "* truck\n",
    "\n",
    "Understanding a dataset is part of making predictions on the data.  Play around with the code cell below by changing the `batch_id` and `sample_id`. The `batch_id` is the id for a batch (1-5). The `sample_id` is the id for a image and label pair in the batch.\n",
    "\n",
    "Ask yourself \"What are all possible labels?\", \"What is the range of values for the image data?\", \"Are the labels in order or random?\".  Answers to questions like these will help you preprocess the data and end up with better predictions."
   ]
  },
  {
   "cell_type": "code",
   "execution_count": 133,
   "metadata": {
    "collapsed": false,
    "deletable": true,
    "editable": true
   },
   "outputs": [
    {
     "name": "stdout",
     "output_type": "stream",
     "text": [
      "\n",
      "Stats of batch 5:\n",
      "Samples: 10000\n",
      "Label Counts: {0: 1014, 1: 1014, 2: 952, 3: 1016, 4: 997, 5: 1025, 6: 980, 7: 977, 8: 1003, 9: 1022}\n",
      "First 20 Labels: [1, 8, 5, 1, 5, 7, 4, 3, 8, 2, 7, 2, 0, 1, 5, 9, 6, 2, 0, 8]\n",
      "\n",
      "Example of Image 1000:\n",
      "Image - Min Value: 28 Max Value: 228\n",
      "Image - Shape: (32, 32, 3)\n",
      "Label - Label Id: 7 Name: horse\n"
     ]
    },
    {
     "data": {
      "image/png": "[encoded data removed]",
      "text/plain": [
       "<matplotlib.figure.Figure at 0x7f375d04ca20>"
      ]
     },
     "metadata": {
      "image/png": {
       "height": 250,
       "width": 253
      }
     },
     "output_type": "display_data"
    }
   ],
   "source": [
    "%matplotlib inline\n",
    "%config InlineBackend.figure_format = 'retina'\n",
    "\n",
    "import helper\n",
    "import numpy as np\n",
    "\n",
    "# Explore the dataset\n",
    "batch_id = 5\n",
    "sample_id = 1000\n",
    "helper.display_stats(cifar10_dataset_folder_path, batch_id, sample_id)"
   ]
  },
  {
   "cell_type": "markdown",
   "metadata": {
    "deletable": true,
    "editable": true
   },
   "source": [
    "## Implement Preprocess Functions\n",
    "### Normalize\n",
    "In the cell below, implement the `normalize` function to take in image data, `x`, and return it as a normalized Numpy array. The values should be in the range of 0 to 1, inclusive.  The return object should be the same shape as `x`."
   ]
  },
  {
   "cell_type": "code",
   "execution_count": 134,
   "metadata": {
    "collapsed": false,
    "deletable": true,
    "editable": true
   },
   "outputs": [
    {
     "name": "stdout",
     "output_type": "stream",
     "text": [
      "Tests Passed\n"
     ]
    }
   ],
   "source": [
    "def normalize(x):\n",
    "    \"\"\"\n",
    "    Normalize a list of sample image data in the range of 0 to 1\n",
    "    : x: List of image data.  The image shape is (32, 32, 3)\n",
    "    : return: Numpy array of normalize data\n",
    "    \"\"\"\n",
    "    # TODO: Implement Function\n",
    "    #Explanation:\n",
    "    # (x_i - min(x)) / ((max(x) - min(x))\n",
    "    # (x_i - 0) / (255 - 0)\n",
    "    # since pixel values are 0-255\n",
    "    return x/255.\n",
    "\n",
    "\n",
    "\"\"\"\n",
    "DON'T MODIFY ANYTHING IN THIS CELL THAT IS BELOW THIS LINE\n",
    "\"\"\"\n",
    "tests.test_normalize(normalize)"
   ]
  },
  {
   "cell_type": "markdown",
   "metadata": {
    "deletable": true,
    "editable": true
   },
   "source": [
    "### One-hot encode\n",
    "Just like the previous code cell, you'll be implementing a function for preprocessing.  This time, you'll implement the `one_hot_encode` function. The input, `x`, are a list of labels.  Implement the function to return the list of labels as One-Hot encoded Numpy array.  The possible values for labels are 0 to 9. The one-hot encoding function should return the same encoding for each value between each call to `one_hot_encode`.  Make sure to save the map of encodings outside the function.\n",
    "\n",
    "Hint: Don't reinvent the wheel."
   ]
  },
  {
   "cell_type": "code",
   "execution_count": 135,
   "metadata": {
    "collapsed": false,
    "deletable": true,
    "editable": true
   },
   "outputs": [
    {
     "name": "stdout",
     "output_type": "stream",
     "text": [
      "Tests Passed\n"
     ]
    }
   ],
   "source": [
    "def one_hot_encode(x):\n",
    "    \"\"\"\n",
    "    One hot encode a list of sample labels. Return a one-hot encoded vector for each label.\n",
    "    : x: List of sample Labels\n",
    "    : return: Numpy array of one-hot encoded labels\n",
    "    \"\"\"\n",
    "    # TODO: Implement Function\n",
    "    x_len = len(x)\n",
    "    num_labels = 10\n",
    "    res = np.zeros((x_len, num_labels))\n",
    "    res[np.arange(x_len), x] = 1\n",
    "    return res\n",
    "\n",
    "\n",
    "\"\"\"\n",
    "DON'T MODIFY ANYTHING IN THIS CELL THAT IS BELOW THIS LINE\n",
    "\"\"\"\n",
    "tests.test_one_hot_encode(one_hot_encode)"
   ]
  },
  {
   "cell_type": "markdown",
   "metadata": {
    "deletable": true,
    "editable": true
   },
   "source": [
    "### Randomize Data\n",
    "As you saw from exploring the data above, the order of the samples are randomized.  It doesn't hurt to randomize it again, but you don't need to for this dataset."
   ]
  },
  {
   "cell_type": "markdown",
   "metadata": {
    "deletable": true,
    "editable": true
   },
   "source": [
    "## Preprocess all the data and save it\n",
    "Running the code cell below will preprocess all the CIFAR-10 data and save it to file. The code below also uses 10% of the training data for validation."
   ]
  },
  {
   "cell_type": "code",
   "execution_count": 136,
   "metadata": {
    "collapsed": false,
    "deletable": true,
    "editable": true
   },
   "outputs": [],
   "source": [
    "\"\"\"\n",
    "DON'T MODIFY ANYTHING IN THIS CELL\n",
    "\"\"\"\n",
    "# Preprocess Training, Validation, and Testing Data\n",
    "helper.preprocess_and_save_data(cifar10_dataset_folder_path, normalize, one_hot_encode)"
   ]
  },
  {
   "cell_type": "markdown",
   "metadata": {
    "deletable": true,
    "editable": true
   },
   "source": [
    "# Check Point\n",
    "This is your first checkpoint.  If you ever decide to come back to this notebook or have to restart the notebook, you can start from here.  The preprocessed data has been saved to disk."
   ]
  },
  {
   "cell_type": "code",
   "execution_count": 137,
   "metadata": {
    "collapsed": true,
    "deletable": true,
    "editable": true
   },
   "outputs": [],
   "source": [
    "\"\"\"\n",
    "DON'T MODIFY ANYTHING IN THIS CELL\n",
    "\"\"\"\n",
    "import pickle\n",
    "import problem_unittests as tests\n",
    "import helper\n",
    "\n",
    "# Load the Preprocessed Validation data\n",
    "valid_features, valid_labels = pickle.load(open('preprocess_validation.p', mode='rb'))"
   ]
  },
  {
   "cell_type": "markdown",
   "metadata": {
    "deletable": true,
    "editable": true
   },
   "source": [
    "## Build the network\n",
    "For the neural network, you'll build each layer into a function.  Most of the code you've seen has been outside of functions. To test your code more thoroughly, we require that you put each layer in a function.  This allows us to give you better feedback and test for simple mistakes using our unittests before you submit your project.\n",
    "\n",
    ">**Note:** If you're finding it hard to dedicate enough time for this course each week, we've provided a small shortcut to this part of the project. In the next couple of problems, you'll have the option to use classes from the [TensorFlow Layers](https://www.tensorflow.org/api_docs/python/tf/layers) or [TensorFlow Layers (contrib)](https://www.tensorflow.org/api_guides/python/contrib.layers) packages to build each layer, except the layers you build in the \"Convolutional and Max Pooling Layer\" section.  TF Layers is similar to Keras's and TFLearn's abstraction to layers, so it's easy to pickup.\n",
    "\n",
    ">However, if you would like to get the most out of this course, try to solve all the problems _without_ using anything from the TF Layers packages. You **can** still use classes from other packages that happen to have the same name as ones you find in TF Layers! For example, instead of using the TF Layers version of the `conv2d` class, [tf.layers.conv2d](https://www.tensorflow.org/api_docs/python/tf/layers/conv2d), you would want to use the TF Neural Network version of `conv2d`, [tf.nn.conv2d](https://www.tensorflow.org/api_docs/python/tf/nn/conv2d). \n",
    "\n",
    "Let's begin!\n",
    "\n",
    "### Input\n",
    "The neural network needs to read the image data, one-hot encoded labels, and dropout keep probability. Implement the following functions\n",
    "* Implement `neural_net_image_input`\n",
    " * Return a [TF Placeholder](https://www.tensorflow.org/api_docs/python/tf/placeholder)\n",
    " * Set the shape using `image_shape` with batch size set to `None`.\n",
    " * Name the TensorFlow placeholder \"x\" using the TensorFlow `name` parameter in the [TF Placeholder](https://www.tensorflow.org/api_docs/python/tf/placeholder).\n",
    "* Implement `neural_net_label_input`\n",
    " * Return a [TF Placeholder](https://www.tensorflow.org/api_docs/python/tf/placeholder)\n",
    " * Set the shape using `n_classes` with batch size set to `None`.\n",
    " * Name the TensorFlow placeholder \"y\" using the TensorFlow `name` parameter in the [TF Placeholder](https://www.tensorflow.org/api_docs/python/tf/placeholder).\n",
    "* Implement `neural_net_keep_prob_input`\n",
    " * Return a [TF Placeholder](https://www.tensorflow.org/api_docs/python/tf/placeholder) for dropout keep probability.\n",
    " * Name the TensorFlow placeholder \"keep_prob\" using the TensorFlow `name` parameter in the [TF Placeholder](https://www.tensorflow.org/api_docs/python/tf/placeholder).\n",
    "\n",
    "These names will be used at the end of the project to load your saved model.\n",
    "\n",
    "Note: `None` for shapes in TensorFlow allow for a dynamic size."
   ]
  },
  {
   "cell_type": "code",
   "execution_count": 138,
   "metadata": {
    "collapsed": false,
    "deletable": true,
    "editable": true
   },
   "outputs": [
    {
     "name": "stdout",
     "output_type": "stream",
     "text": [
      "Image Input Tests Passed.\n",
      "Label Input Tests Passed.\n",
      "Keep Prob Tests Passed.\n"
     ]
    }
   ],
   "source": [
    "import tensorflow as tf\n",
    "\n",
    "def neural_net_image_input(image_shape):\n",
    "    \"\"\"\n",
    "    Return a Tensor for a batch of image input\n",
    "    : image_shape: Shape of the images\n",
    "    : return: Tensor for image input.\n",
    "    \"\"\"\n",
    "    # TODO: Implement Function\n",
    "    return tf.placeholder(tf.float32, shape=[None, *image_shape], name=\"x\")\n",
    "\n",
    "\n",
    "def neural_net_label_input(n_classes):\n",
    "    \"\"\"\n",
    "    Return a Tensor for a batch of label input\n",
    "    : n_classes: Number of classes\n",
    "    : return: Tensor for label input.\n",
    "    \"\"\"\n",
    "    # TODO: Implement Function\n",
    "    return tf.placeholder(tf.float32, shape = [None, n_classes], name=\"y\")\n",
    "\n",
    "\n",
    "def neural_net_keep_prob_input():\n",
    "    \"\"\"\n",
    "    Return a Tensor for keep probability\n",
    "    : return: Tensor for keep probability.\n",
    "    \"\"\"\n",
    "    # TODO: Implement Function\n",
    "    return tf.placeholder(tf.float32, name=\"keep_prob\")\n",
    "\n",
    "\n",
    "\"\"\"\n",
    "DON'T MODIFY ANYTHING IN THIS CELL THAT IS BELOW THIS LINE\n",
    "\"\"\"\n",
    "tf.reset_default_graph()\n",
    "tests.test_nn_image_inputs(neural_net_image_input)\n",
    "tests.test_nn_label_inputs(neural_net_label_input)\n",
    "tests.test_nn_keep_prob_inputs(neural_net_keep_prob_input)"
   ]
  },
  {
   "cell_type": "markdown",
   "metadata": {
    "deletable": true,
    "editable": true
   },
   "source": [
    "### Convolution and Max Pooling Layer\n",
    "Convolution layers have a lot of success with images. For this code cell, you should implement the function `conv2d_maxpool` to apply convolution then max pooling:\n",
    "* Create the weight and bias using `conv_ksize`, `conv_num_outputs` and the shape of `x_tensor`.\n",
    "* Apply a convolution to `x_tensor` using weight and `conv_strides`.\n",
    " * We recommend you use same padding, but you're welcome to use any padding.\n",
    "* Add bias\n",
    "* Add a nonlinear activation to the convolution.\n",
    "* Apply Max Pooling using `pool_ksize` and `pool_strides`.\n",
    " * We recommend you use same padding, but you're welcome to use any padding.\n",
    "\n",
    "**Note:** You **can't** use [TensorFlow Layers](https://www.tensorflow.org/api_docs/python/tf/layers) or [TensorFlow Layers (contrib)](https://www.tensorflow.org/api_guides/python/contrib.layers) for **this** layer, but you can still use TensorFlow's [Neural Network](https://www.tensorflow.org/api_docs/python/tf/nn) package. You may still use the shortcut option for all the **other** layers."
   ]
  },
  {
   "cell_type": "code",
   "execution_count": 139,
   "metadata": {
    "collapsed": false,
    "deletable": true,
    "editable": true
   },
   "outputs": [
    {
     "name": "stdout",
     "output_type": "stream",
     "text": [
      "Tests Passed\n"
     ]
    }
   ],
   "source": [
    "def conv2d_maxpool(x_tensor, conv_num_outputs, conv_ksize, conv_strides, pool_ksize, pool_strides):\n",
    "    \"\"\"\n",
    "    Apply convolution then max pooling to x_tensor\n",
    "    :param x_tensor: TensorFlow Tensor\n",
    "    :param conv_num_outputs: Number of outputs for the convolutional layer\n",
    "    :param conv_ksize: kernal size 2-D Tuple for the convolutional layer\n",
    "    :param conv_strides: Stride 2-D Tuple for convolution\n",
    "    :param pool_ksize: kernal size 2-D Tuple for pool\n",
    "    :param pool_strides: Stride 2-D Tuple for pool\n",
    "    : return: A tensor that represents convolution and max pooling of x_tensor\n",
    "    \"\"\"\n",
    "    # TODO: Implement Function\n",
    "    input_depth = x_tensor.shape[3].value\n",
    "    filter_weights = tf.Variable(tf.truncated_normal((*conv_ksize, input_depth, conv_num_outputs), stddev=.1))\n",
    "    filter_bias = tf.Variable(tf.zeros(conv_num_outputs), trainable=True)\n",
    "    \n",
    "    conv_layer = tf.nn.conv2d(x_tensor, filter_weights, [1, *conv_strides, 1], 'SAME')\n",
    "    conv_layer = tf.nn.bias_add(conv_layer, filter_bias)\n",
    "    conv_layer = tf.nn.relu(conv_layer)\n",
    "                                \n",
    "    return tf.nn.max_pool(conv_layer, [1, *pool_ksize, 1], [1, *pool_strides, 1], 'SAME') \n",
    "\n",
    "\n",
    "\"\"\"\n",
    "DON'T MODIFY ANYTHING IN THIS CELL THAT IS BELOW THIS LINE\n",
    "\"\"\"\n",
    "tests.test_con_pool(conv2d_maxpool)"
   ]
  },
  {
   "cell_type": "markdown",
   "metadata": {
    "deletable": true,
    "editable": true
   },
   "source": [
    "### Flatten Layer\n",
    "Implement the `flatten` function to change the dimension of `x_tensor` from a 4-D tensor to a 2-D tensor.  The output should be the shape (*Batch Size*, *Flattened Image Size*). Shortcut option: you can use classes from the [TensorFlow Layers](https://www.tensorflow.org/api_docs/python/tf/layers) or [TensorFlow Layers (contrib)](https://www.tensorflow.org/api_guides/python/contrib.layers) packages for this layer. For more of a challenge, only use other TensorFlow packages."
   ]
  },
  {
   "cell_type": "code",
   "execution_count": 141,
   "metadata": {
    "collapsed": false,
    "deletable": true,
    "editable": true
   },
   "outputs": [
    {
     "name": "stdout",
     "output_type": "stream",
     "text": [
      "Tests Passed\n"
     ]
    }
   ],
   "source": [
    "def flatten(x_tensor):\n",
    "    \"\"\"\n",
    "    Flatten x_tensor to (Batch Size, Flattened Image Size)\n",
    "    : x_tensor: A tensor of size (Batch Size, ...), where ... are the image dimensions.\n",
    "    : return: A tensor of size (Batch Size, Flattened Image Size).\n",
    "    \"\"\"\n",
    "    # TODO: Implement Function\n",
    "    width = x_tensor.shape[1].value\n",
    "    height = x_tensor.shape[2].value\n",
    "    depth = x_tensor.shape[3].value\n",
    "    \n",
    "    return tf.reshape(x_tensor, [-1, width* height * depth])\n",
    "\n",
    "\n",
    "\"\"\"\n",
    "DON'T MODIFY ANYTHING IN THIS CELL THAT IS BELOW THIS LINE\n",
    "\"\"\"\n",
    "tests.test_flatten(flatten)"
   ]
  },
  {
   "cell_type": "markdown",
   "metadata": {
    "deletable": true,
    "editable": true
   },
   "source": [
    "### Fully-Connected Layer\n",
    "Implement the `fully_conn` function to apply a fully connected layer to `x_tensor` with the shape (*Batch Size*, *num_outputs*). Shortcut option: you can use classes from the [TensorFlow Layers](https://www.tensorflow.org/api_docs/python/tf/layers) or [TensorFlow Layers (contrib)](https://www.tensorflow.org/api_guides/python/contrib.layers) packages for this layer. For more of a challenge, only use other TensorFlow packages."
   ]
  },
  {
   "cell_type": "code",
   "execution_count": 142,
   "metadata": {
    "collapsed": false,
    "deletable": true,
    "editable": true
   },
   "outputs": [
    {
     "name": "stdout",
     "output_type": "stream",
     "text": [
      "Tests Passed\n"
     ]
    }
   ],
   "source": [
    "def fully_conn(x_tensor, num_outputs):\n",
    "    \"\"\"\n",
    "    Apply a fully connected layer to x_tensor using weight and bias\n",
    "    : x_tensor: A 2-D tensor where the first dimension is batch size.\n",
    "    : num_outputs: The number of output that the new tensor should be.\n",
    "    : return: A 2-D tensor where the second dimension is num_outputs.\n",
    "    \"\"\"\n",
    "    # TODO: Implement Function\n",
    "    image_size = x_tensor.get_shape().as_list()[1]\n",
    "    weights = tf.Variable(tf.truncated_normal(([image_size, num_outputs]), stddev=.5))\n",
    "    bias = tf.Variable(tf.zeros(num_outputs))\n",
    "    fc_layer = tf.add(tf.matmul(x_tensor, weights), bias)\n",
    "    return tf.nn.relu(fc_layer)\n",
    "\n",
    "\n",
    "\"\"\"\n",
    "DON'T MODIFY ANYTHING IN THIS CELL THAT IS BELOW THIS LINE\n",
    "\"\"\"\n",
    "tests.test_fully_conn(fully_conn)"
   ]
  },
  {
   "cell_type": "markdown",
   "metadata": {
    "deletable": true,
    "editable": true
   },
   "source": [
    "### Output Layer\n",
    "Implement the `output` function to apply a fully connected layer to `x_tensor` with the shape (*Batch Size*, *num_outputs*). Shortcut option: you can use classes from the [TensorFlow Layers](https://www.tensorflow.org/api_docs/python/tf/layers) or [TensorFlow Layers (contrib)](https://www.tensorflow.org/api_guides/python/contrib.layers) packages for this layer. For more of a challenge, only use other TensorFlow packages.\n",
    "\n",
    "**Note:** Activation, softmax, or cross entropy should **not** be applied to this."
   ]
  },
  {
   "cell_type": "code",
   "execution_count": 143,
   "metadata": {
    "collapsed": false,
    "deletable": true,
    "editable": true
   },
   "outputs": [
    {
     "name": "stdout",
     "output_type": "stream",
     "text": [
      "Tests Passed\n"
     ]
    }
   ],
   "source": [
    "def output(x_tensor, num_outputs):\n",
    "    \"\"\"\n",
    "    Apply a output layer to x_tensor using weight and bias\n",
    "    : x_tensor: A 2-D tensor where the first dimension is batch size.\n",
    "    : num_outputs: The number of output that the new tensor should be.\n",
    "    : return: A 2-D tensor where the second dimension is num_outputs.\n",
    "    \"\"\"\n",
    "    # TODO: Implement Function\n",
    "    image_size = x_tensor.get_shape().as_list()[1]\n",
    "    weights = tf.Variable(tf.truncated_normal(([image_size, num_outputs]), stddev=.1))\n",
    "    bias = tf.Variable(tf.zeros(num_outputs))\n",
    "    return tf.add(tf.matmul(x_tensor, weights), bias)\n",
    "\n",
    "\n",
    "\"\"\"\n",
    "DON'T MODIFY ANYTHING IN THIS CELL THAT IS BELOW THIS LINE\n",
    "\"\"\"\n",
    "tests.test_output(output)"
   ]
  },
  {
   "cell_type": "markdown",
   "metadata": {
    "deletable": true,
    "editable": true
   },
   "source": [
    "### Create Convolutional Model\n",
    "Implement the function `conv_net` to create a convolutional neural network model. The function takes in a batch of images, `x`, and outputs logits.  Use the layers you created above to create this model:\n",
    "\n",
    "* Apply 1, 2, or 3 Convolution and Max Pool layers\n",
    "* Apply a Flatten Layer\n",
    "* Apply 1, 2, or 3 Fully Connected Layers\n",
    "* Apply an Output Layer\n",
    "* Return the output\n",
    "* Apply [TensorFlow's Dropout](https://www.tensorflow.org/api_docs/python/tf/nn/dropout) to one or more layers in the model using `keep_prob`. "
   ]
  },
  {
   "cell_type": "code",
   "execution_count": 144,
   "metadata": {
    "collapsed": false,
    "deletable": true,
    "editable": true
   },
   "outputs": [
    {
     "name": "stdout",
     "output_type": "stream",
     "text": [
      "Neural Network Built!\n"
     ]
    }
   ],
   "source": [
    "def conv_net(x, keep_prob):\n",
    "    \"\"\"\n",
    "    Create a convolutional neural network model\n",
    "    : x: Placeholder tensor that holds image data.\n",
    "    : keep_prob: Placeholder tensor that hold dropout keep probability.\n",
    "    : return: Tensor that represents logits\n",
    "    \"\"\"\n",
    "    # TODO: Apply 1, 2, or 3 Convolution and Max Pool layers\n",
    "    #    Play around with different number of outputs, kernel size and stride\n",
    "    # Function Definition from Above:\n",
    "    conv_num_outputs = [32, 48, 64]\n",
    "    conv_ksize = (3, 3)\n",
    "    conv_strides = (1, 1)\n",
    "    pool_ksize = (2,2)\n",
    "    pool_strides = (2,2)\n",
    "    \n",
    "    conv = conv2d_maxpool(x, conv_num_outputs[0], conv_ksize, conv_strides, pool_ksize, pool_strides)\n",
    "    conv = conv2d_maxpool(conv, conv_num_outputs[1], conv_ksize, conv_strides, pool_ksize, pool_strides)\n",
    "    conv = conv2d_maxpool(conv, conv_num_outputs[2], conv_ksize, conv_strides, pool_ksize, pool_strides)\n",
    "    # TODO: Apply a Flatten Layer\n",
    "    # Function Definition from Above:\n",
    "    fc = flatten(conv)\n",
    "    \n",
    "\n",
    "    # TODO: Apply 1, 2, or 3 Fully Connected Layers\n",
    "    #    Play around with different number of outputs\n",
    "    # Function Definition from Above:\n",
    "    fc = fully_conn(fc, 128)\n",
    "    fc = tf.nn.dropout(fc, keep_prob)\n",
    "#     fc = fully_conn(fc, 128)\n",
    "#     fc = tf.nn.dropout(fc, keep_prob)\n",
    "#     fc = fully_conn(fc, 512)\n",
    "    \n",
    "    \n",
    "    \n",
    "    \n",
    "    # TODO: Apply an Output Layer\n",
    "    #    Set this to the number of classes\n",
    "    # Function Definition from Above:\n",
    "    \n",
    "    # TODO: return output\n",
    "    num_outputs = 10\n",
    "    return output(fc, num_outputs)\n",
    "\n",
    "\n",
    "\"\"\"\n",
    "DON'T MODIFY ANYTHING IN THIS CELL THAT IS BELOW THIS LINE\n",
    "\"\"\"\n",
    "\n",
    "##############################\n",
    "## Build the Neural Network ##\n",
    "##############################\n",
    "\n",
    "# Remove previous weights, bias, inputs, etc..\n",
    "tf.reset_default_graph()\n",
    "\n",
    "# Inputs\n",
    "x = neural_net_image_input((32, 32, 3))\n",
    "y = neural_net_label_input(10)\n",
    "keep_prob = neural_net_keep_prob_input()\n",
    "\n",
    "# Model\n",
    "logits = conv_net(x, keep_prob)\n",
    "\n",
    "# Name logits Tensor, so that is can be loaded from disk after training\n",
    "logits = tf.identity(logits, name='logits')\n",
    "\n",
    "# Loss and Optimizer\n",
    "cost = tf.reduce_mean(tf.nn.softmax_cross_entropy_with_logits(logits=logits, labels=y))\n",
    "optimizer = tf.train.AdamOptimizer().minimize(cost)\n",
    "\n",
    "# Accuracy\n",
    "correct_pred = tf.equal(tf.argmax(logits, 1), tf.argmax(y, 1))\n",
    "accuracy = tf.reduce_mean(tf.cast(correct_pred, tf.float32), name='accuracy')\n",
    "\n",
    "tests.test_conv_net(conv_net)"
   ]
  },
  {
   "cell_type": "markdown",
   "metadata": {
    "deletable": true,
    "editable": true
   },
   "source": [
    "## Train the Neural Network\n",
    "### Single Optimization\n",
    "Implement the function `train_neural_network` to do a single optimization.  The optimization should use `optimizer` to optimize in `session` with a `feed_dict` of the following:\n",
    "* `x` for image input\n",
    "* `y` for labels\n",
    "* `keep_prob` for keep probability for dropout\n",
    "\n",
    "This function will be called for each batch, so `tf.global_variables_initializer()` has already been called.\n",
    "\n",
    "Note: Nothing needs to be returned. This function is only optimizing the neural network."
   ]
  },
  {
   "cell_type": "code",
   "execution_count": 145,
   "metadata": {
    "collapsed": false,
    "deletable": true,
    "editable": true
   },
   "outputs": [
    {
     "name": "stdout",
     "output_type": "stream",
     "text": [
      "Tests Passed\n"
     ]
    }
   ],
   "source": [
    "def train_neural_network(session, optimizer, keep_probability, feature_batch, label_batch):\n",
    "    \"\"\"\n",
    "    Optimize the session on a batch of images and labels\n",
    "    : session: Current TensorFlow session\n",
    "    : optimizer: TensorFlow optimizer function\n",
    "    : keep_probability: keep probability\n",
    "    : feature_batch: Batch of Numpy image data\n",
    "    : label_batch: Batch of Numpy label data\n",
    "    \"\"\"\n",
    "    # TODO: Implement Function\n",
    "    session.run(optimizer, feed_dict={x: feature_batch, y: label_batch, keep_prob: keep_probability})\n",
    "    \n",
    "\n",
    "\n",
    "\"\"\"\n",
    "DON'T MODIFY ANYTHING IN THIS CELL THAT IS BELOW THIS LINE\n",
    "\"\"\"\n",
    "tests.test_train_nn(train_neural_network)"
   ]
  },
  {
   "cell_type": "markdown",
   "metadata": {
    "deletable": true,
    "editable": true
   },
   "source": [
    "### Show Stats\n",
    "Implement the function `print_stats` to print loss and validation accuracy.  Use the global variables `valid_features` and `valid_labels` to calculate validation accuracy.  Use a keep probability of `1.0` to calculate the loss and validation accuracy."
   ]
  },
  {
   "cell_type": "code",
   "execution_count": 146,
   "metadata": {
    "collapsed": false,
    "deletable": true,
    "editable": true
   },
   "outputs": [],
   "source": [
    "def print_stats(session, feature_batch, label_batch, cost, accuracy):\n",
    "    \"\"\"\n",
    "    Print information about loss and validation accuracy\n",
    "    : session: Current TensorFlow session\n",
    "    : feature_batch: Batch of Numpy image data\n",
    "    : label_batch: Batch of Numpy label data\n",
    "    : cost: TensorFlow cost function\n",
    "    : accuracy: TensorFlow accuracy function\n",
    "    \"\"\"\n",
    "    # TODO: Implement Function\n",
    "    loss = session.run(cost, feed_dict = {x: feature_batch, y: label_batch, keep_prob: 1.0})\n",
    "    valid_acc = session.run(accuracy, feed_dict = {x: valid_features, y: valid_labels, keep_prob: 1.0})\n",
    "    print('Loss: {} Validation Accuracy: {}'.format(loss, valid_acc))\n",
    "    "
   ]
  },
  {
   "cell_type": "markdown",
   "metadata": {
    "deletable": true,
    "editable": true
   },
   "source": [
    "### Hyperparameters\n",
    "Tune the following parameters:\n",
    "* Set `epochs` to the number of iterations until the network stops learning or start overfitting\n",
    "* Set `batch_size` to the highest number that your machine has memory for.  Most people set them to common sizes of memory:\n",
    " * 64\n",
    " * 128\n",
    " * 256\n",
    " * ...\n",
    "* Set `keep_probability` to the probability of keeping a node using dropout"
   ]
  },
  {
   "cell_type": "code",
   "execution_count": 147,
   "metadata": {
    "collapsed": true,
    "deletable": true,
    "editable": true
   },
   "outputs": [],
   "source": [
    "# TODO: Tune Parameters\n",
    "epochs = 30\n",
    "batch_size = 64\n",
    "keep_probability = .5"
   ]
  },
  {
   "cell_type": "markdown",
   "metadata": {
    "deletable": true,
    "editable": true
   },
   "source": [
    "### Train on a Single CIFAR-10 Batch\n",
    "Instead of training the neural network on all the CIFAR-10 batches of data, let's use a single batch. This should save time while you iterate on the model to get a better accuracy.  Once the final validation accuracy is 50% or greater, run the model on all the data in the next section."
   ]
  },
  {
   "cell_type": "code",
   "execution_count": 148,
   "metadata": {
    "collapsed": false,
    "deletable": true,
    "editable": true
   },
   "outputs": [
    {
     "name": "stdout",
     "output_type": "stream",
     "text": [
      "Checking the Training on a Single Batch...\n",
      "Epoch  1, CIFAR-10 Batch 1:  Loss: 2.057541847229004 Validation Accuracy: 0.3077999949455261\n",
      "Epoch  2, CIFAR-10 Batch 1:  Loss: 1.9166301488876343 Validation Accuracy: 0.38339999318122864\n",
      "Epoch  3, CIFAR-10 Batch 1:  Loss: 1.7452688217163086 Validation Accuracy: 0.4327999949455261\n",
      "Epoch  4, CIFAR-10 Batch 1:  Loss: 1.7031055688858032 Validation Accuracy: 0.46239998936653137\n",
      "Epoch  5, CIFAR-10 Batch 1:  Loss: 1.587210774421692 Validation Accuracy: 0.48399999737739563\n",
      "Epoch  6, CIFAR-10 Batch 1:  Loss: 1.520406723022461 Validation Accuracy: 0.49559998512268066\n",
      "Epoch  7, CIFAR-10 Batch 1:  Loss: 1.3876374959945679 Validation Accuracy: 0.49059998989105225\n",
      "Epoch  8, CIFAR-10 Batch 1:  Loss: 1.2838380336761475 Validation Accuracy: 0.5009999871253967\n",
      "Epoch  9, CIFAR-10 Batch 1:  Loss: 1.3101344108581543 Validation Accuracy: 0.532800018787384\n",
      "Epoch 10, CIFAR-10 Batch 1:  Loss: 1.2396221160888672 Validation Accuracy: 0.5365999937057495\n",
      "Epoch 11, CIFAR-10 Batch 1:  Loss: 1.0930057764053345 Validation Accuracy: 0.5422000288963318\n",
      "Epoch 12, CIFAR-10 Batch 1:  Loss: 0.9942858815193176 Validation Accuracy: 0.5375999808311462\n",
      "Epoch 13, CIFAR-10 Batch 1:  Loss: 0.9591276049613953 Validation Accuracy: 0.5568000078201294\n",
      "Epoch 14, CIFAR-10 Batch 1:  Loss: 0.9031070470809937 Validation Accuracy: 0.5669999718666077\n",
      "Epoch 15, CIFAR-10 Batch 1:  Loss: 0.8696388006210327 Validation Accuracy: 0.5655999779701233\n",
      "Epoch 16, CIFAR-10 Batch 1:  Loss: 0.8283113241195679 Validation Accuracy: 0.5722000002861023\n",
      "Epoch 17, CIFAR-10 Batch 1:  Loss: 0.7961954474449158 Validation Accuracy: 0.5848000049591064\n",
      "Epoch 18, CIFAR-10 Batch 1:  Loss: 0.8617192506790161 Validation Accuracy: 0.5740000009536743\n",
      "Epoch 19, CIFAR-10 Batch 1:  Loss: 0.7536740303039551 Validation Accuracy: 0.5784000158309937\n",
      "Epoch 20, CIFAR-10 Batch 1:  Loss: 0.7165350914001465 Validation Accuracy: 0.5830000042915344\n",
      "Epoch 21, CIFAR-10 Batch 1:  Loss: 0.6313707828521729 Validation Accuracy: 0.5902000069618225\n",
      "Epoch 22, CIFAR-10 Batch 1:  Loss: 0.5455074310302734 Validation Accuracy: 0.5910000205039978\n",
      "Epoch 23, CIFAR-10 Batch 1:  Loss: 0.5220903754234314 Validation Accuracy: 0.5902000069618225\n",
      "Epoch 24, CIFAR-10 Batch 1:  Loss: 0.4908212125301361 Validation Accuracy: 0.5892000198364258\n",
      "Epoch 25, CIFAR-10 Batch 1:  Loss: 0.4305651783943176 Validation Accuracy: 0.5965999960899353\n",
      "Epoch 26, CIFAR-10 Batch 1:  Loss: 0.35533803701400757 Validation Accuracy: 0.5906000137329102\n",
      "Epoch 27, CIFAR-10 Batch 1:  Loss: 0.39299410581588745 Validation Accuracy: 0.573199987411499\n",
      "Epoch 28, CIFAR-10 Batch 1:  Loss: 0.3729091286659241 Validation Accuracy: 0.5884000062942505\n",
      "Epoch 29, CIFAR-10 Batch 1:  Loss: 0.30927571654319763 Validation Accuracy: 0.5866000056266785\n",
      "Epoch 30, CIFAR-10 Batch 1:  Loss: 0.32302093505859375 Validation Accuracy: 0.5946000218391418\n"
     ]
    }
   ],
   "source": [
    "\"\"\"\n",
    "DON'T MODIFY ANYTHING IN THIS CELL\n",
    "\"\"\"\n",
    "print('Checking the Training on a Single Batch...')\n",
    "with tf.Session() as sess:\n",
    "    # Initializing the variables\n",
    "    sess.run(tf.global_variables_initializer())\n",
    "    \n",
    "    # Training cycle\n",
    "    for epoch in range(epochs):\n",
    "        batch_i = 1\n",
    "        for batch_features, batch_labels in helper.load_preprocess_training_batch(batch_i, batch_size):\n",
    "            train_neural_network(sess, optimizer, keep_probability, batch_features, batch_labels)\n",
    "        print('Epoch {:>2}, CIFAR-10 Batch {}:  '.format(epoch + 1, batch_i), end='')\n",
    "        print_stats(sess, batch_features, batch_labels, cost, accuracy)"
   ]
  },
  {
   "cell_type": "markdown",
   "metadata": {
    "deletable": true,
    "editable": true
   },
   "source": [
    "### Fully Train the Model\n",
    "Now that you got a good accuracy with a single CIFAR-10 batch, try it with all five batches."
   ]
  },
  {
   "cell_type": "code",
   "execution_count": 149,
   "metadata": {
    "collapsed": false,
    "deletable": true,
    "editable": true
   },
   "outputs": [
    {
     "name": "stdout",
     "output_type": "stream",
     "text": [
      "Training...\n",
      "Epoch  1, CIFAR-10 Batch 1:  Loss: 1.9958463907241821 Validation Accuracy: 0.33959999680519104\n",
      "Epoch  1, CIFAR-10 Batch 2:  Loss: 1.6726353168487549 Validation Accuracy: 0.39579999446868896\n",
      "Epoch  1, CIFAR-10 Batch 3:  Loss: 1.4938106536865234 Validation Accuracy: 0.414000004529953\n",
      "Epoch  1, CIFAR-10 Batch 4:  Loss: 1.569106936454773 Validation Accuracy: 0.45019999146461487\n",
      "Epoch  1, CIFAR-10 Batch 5:  Loss: 1.5656657218933105 Validation Accuracy: 0.4772000014781952\n",
      "Epoch  2, CIFAR-10 Batch 1:  Loss: 1.5987787246704102 Validation Accuracy: 0.4763999879360199\n",
      "Epoch  2, CIFAR-10 Batch 2:  Loss: 1.4259331226348877 Validation Accuracy: 0.5192000269889832\n",
      "Epoch  2, CIFAR-10 Batch 3:  Loss: 1.2192554473876953 Validation Accuracy: 0.4959999918937683\n",
      "Epoch  2, CIFAR-10 Batch 4:  Loss: 1.2232937812805176 Validation Accuracy: 0.5361999869346619\n",
      "Epoch  2, CIFAR-10 Batch 5:  Loss: 1.3576743602752686 Validation Accuracy: 0.5472000241279602\n",
      "Epoch  3, CIFAR-10 Batch 1:  Loss: 1.3020713329315186 Validation Accuracy: 0.5436000227928162\n",
      "Epoch  3, CIFAR-10 Batch 2:  Loss: 1.2781870365142822 Validation Accuracy: 0.5636000037193298\n",
      "Epoch  3, CIFAR-10 Batch 3:  Loss: 0.9939335584640503 Validation Accuracy: 0.5637999773025513\n",
      "Epoch  3, CIFAR-10 Batch 4:  Loss: 1.1364659070968628 Validation Accuracy: 0.5756000280380249\n",
      "Epoch  3, CIFAR-10 Batch 5:  Loss: 1.214801549911499 Validation Accuracy: 0.5802000164985657\n",
      "Epoch  4, CIFAR-10 Batch 1:  Loss: 1.1688051223754883 Validation Accuracy: 0.5978000164031982\n",
      "Epoch  4, CIFAR-10 Batch 2:  Loss: 1.1492420434951782 Validation Accuracy: 0.5848000049591064\n",
      "Epoch  4, CIFAR-10 Batch 3:  Loss: 0.9147394895553589 Validation Accuracy: 0.6118000149726868\n",
      "Epoch  4, CIFAR-10 Batch 4:  Loss: 0.94981849193573 Validation Accuracy: 0.6111999750137329\n",
      "Epoch  4, CIFAR-10 Batch 5:  Loss: 1.1305434703826904 Validation Accuracy: 0.6177999973297119\n",
      "Epoch  5, CIFAR-10 Batch 1:  Loss: 1.0818498134613037 Validation Accuracy: 0.6241999864578247\n",
      "Epoch  5, CIFAR-10 Batch 2:  Loss: 1.1218962669372559 Validation Accuracy: 0.61080002784729\n",
      "Epoch  5, CIFAR-10 Batch 3:  Loss: 0.8333956599235535 Validation Accuracy: 0.6345999836921692\n",
      "Epoch  5, CIFAR-10 Batch 4:  Loss: 0.9365565180778503 Validation Accuracy: 0.6425999999046326\n",
      "Epoch  5, CIFAR-10 Batch 5:  Loss: 1.0458605289459229 Validation Accuracy: 0.6377999782562256\n",
      "Epoch  6, CIFAR-10 Batch 1:  Loss: 1.0358387231826782 Validation Accuracy: 0.6439999938011169\n",
      "Epoch  6, CIFAR-10 Batch 2:  Loss: 0.9544656872749329 Validation Accuracy: 0.6466000080108643\n",
      "Epoch  6, CIFAR-10 Batch 3:  Loss: 0.6473385095596313 Validation Accuracy: 0.6547999978065491\n",
      "Epoch  6, CIFAR-10 Batch 4:  Loss: 0.8556712865829468 Validation Accuracy: 0.6629999876022339\n",
      "Epoch  6, CIFAR-10 Batch 5:  Loss: 0.8700170516967773 Validation Accuracy: 0.6665999889373779\n",
      "Epoch  7, CIFAR-10 Batch 1:  Loss: 1.0234712362289429 Validation Accuracy: 0.6439999938011169\n",
      "Epoch  7, CIFAR-10 Batch 2:  Loss: 0.8491319417953491 Validation Accuracy: 0.6665999889373779\n",
      "Epoch  7, CIFAR-10 Batch 3:  Loss: 0.6275819540023804 Validation Accuracy: 0.6646000146865845\n",
      "Epoch  7, CIFAR-10 Batch 4:  Loss: 0.8056191205978394 Validation Accuracy: 0.6812000274658203\n",
      "Epoch  7, CIFAR-10 Batch 5:  Loss: 0.7879264950752258 Validation Accuracy: 0.6773999929428101\n",
      "Epoch  8, CIFAR-10 Batch 1:  Loss: 0.8611259460449219 Validation Accuracy: 0.6732000112533569\n",
      "Epoch  8, CIFAR-10 Batch 2:  Loss: 0.7897723317146301 Validation Accuracy: 0.6764000058174133\n",
      "Epoch  8, CIFAR-10 Batch 3:  Loss: 0.6245536804199219 Validation Accuracy: 0.6868000030517578\n",
      "Epoch  8, CIFAR-10 Batch 4:  Loss: 0.817909836769104 Validation Accuracy: 0.6868000030517578\n",
      "Epoch  8, CIFAR-10 Batch 5:  Loss: 0.8155361413955688 Validation Accuracy: 0.6758000254631042\n",
      "Epoch  9, CIFAR-10 Batch 1:  Loss: 0.8772223591804504 Validation Accuracy: 0.6862000226974487\n",
      "Epoch  9, CIFAR-10 Batch 2:  Loss: 0.664730429649353 Validation Accuracy: 0.6797999739646912\n",
      "Epoch  9, CIFAR-10 Batch 3:  Loss: 0.48500269651412964 Validation Accuracy: 0.6790000200271606\n",
      "Epoch  9, CIFAR-10 Batch 4:  Loss: 0.6433238387107849 Validation Accuracy: 0.6926000118255615\n",
      "Epoch  9, CIFAR-10 Batch 5:  Loss: 0.6742590665817261 Validation Accuracy: 0.6962000131607056\n",
      "Epoch 10, CIFAR-10 Batch 1:  Loss: 0.8541986346244812 Validation Accuracy: 0.6904000043869019\n",
      "Epoch 10, CIFAR-10 Batch 2:  Loss: 0.6966758966445923 Validation Accuracy: 0.6934000253677368\n",
      "Epoch 10, CIFAR-10 Batch 3:  Loss: 0.43979182839393616 Validation Accuracy: 0.7009999752044678\n",
      "Epoch 10, CIFAR-10 Batch 4:  Loss: 0.7124577760696411 Validation Accuracy: 0.6959999799728394\n",
      "Epoch 10, CIFAR-10 Batch 5:  Loss: 0.6703611612319946 Validation Accuracy: 0.6953999996185303\n",
      "Epoch 11, CIFAR-10 Batch 1:  Loss: 0.8078333735466003 Validation Accuracy: 0.7016000151634216\n",
      "Epoch 11, CIFAR-10 Batch 2:  Loss: 0.5143084526062012 Validation Accuracy: 0.703000009059906\n",
      "Epoch 11, CIFAR-10 Batch 3:  Loss: 0.4706244468688965 Validation Accuracy: 0.6988000273704529\n",
      "Epoch 11, CIFAR-10 Batch 4:  Loss: 0.656011700630188 Validation Accuracy: 0.6972000002861023\n",
      "Epoch 11, CIFAR-10 Batch 5:  Loss: 0.6848115921020508 Validation Accuracy: 0.6913999915122986\n",
      "Epoch 12, CIFAR-10 Batch 1:  Loss: 0.717954158782959 Validation Accuracy: 0.6931999921798706\n",
      "Epoch 12, CIFAR-10 Batch 2:  Loss: 0.504214882850647 Validation Accuracy: 0.703000009059906\n",
      "Epoch 12, CIFAR-10 Batch 3:  Loss: 0.4413674771785736 Validation Accuracy: 0.7098000049591064\n",
      "Epoch 12, CIFAR-10 Batch 4:  Loss: 0.6652759313583374 Validation Accuracy: 0.7080000042915344\n",
      "Epoch 12, CIFAR-10 Batch 5:  Loss: 0.6570087671279907 Validation Accuracy: 0.6801999807357788\n",
      "Epoch 13, CIFAR-10 Batch 1:  Loss: 0.685451328754425 Validation Accuracy: 0.6944000124931335\n",
      "Epoch 13, CIFAR-10 Batch 2:  Loss: 0.5246409773826599 Validation Accuracy: 0.7088000178337097\n",
      "Epoch 13, CIFAR-10 Batch 3:  Loss: 0.31760159134864807 Validation Accuracy: 0.7098000049591064\n",
      "Epoch 13, CIFAR-10 Batch 4:  Loss: 0.6143935322761536 Validation Accuracy: 0.7059999704360962\n",
      "Epoch 13, CIFAR-10 Batch 5:  Loss: 0.5557940602302551 Validation Accuracy: 0.7009999752044678\n",
      "Epoch 14, CIFAR-10 Batch 1:  Loss: 0.6334840059280396 Validation Accuracy: 0.699400007724762\n",
      "Epoch 14, CIFAR-10 Batch 2:  Loss: 0.4452795088291168 Validation Accuracy: 0.7121999859809875\n",
      "Epoch 14, CIFAR-10 Batch 3:  Loss: 0.3224586546421051 Validation Accuracy: 0.7160000205039978\n",
      "Epoch 14, CIFAR-10 Batch 4:  Loss: 0.5069762468338013 Validation Accuracy: 0.7224000096321106\n",
      "Epoch 14, CIFAR-10 Batch 5:  Loss: 0.5131976008415222 Validation Accuracy: 0.7175999879837036\n",
      "Epoch 15, CIFAR-10 Batch 1:  Loss: 0.542599081993103 Validation Accuracy: 0.704800009727478\n",
      "Epoch 15, CIFAR-10 Batch 2:  Loss: 0.502873420715332 Validation Accuracy: 0.7232000231742859\n",
      "Epoch 15, CIFAR-10 Batch 3:  Loss: 0.32808250188827515 Validation Accuracy: 0.7021999955177307\n",
      "Epoch 15, CIFAR-10 Batch 4:  Loss: 0.5650841593742371 Validation Accuracy: 0.7117999792098999\n",
      "Epoch 15, CIFAR-10 Batch 5:  Loss: 0.5385441780090332 Validation Accuracy: 0.7077999711036682\n",
      "Epoch 16, CIFAR-10 Batch 1:  Loss: 0.6333470344543457 Validation Accuracy: 0.7009999752044678\n",
      "Epoch 16, CIFAR-10 Batch 2:  Loss: 0.48782071471214294 Validation Accuracy: 0.717199981212616\n",
      "Epoch 16, CIFAR-10 Batch 3:  Loss: 0.29345080256462097 Validation Accuracy: 0.7039999961853027\n",
      "Epoch 16, CIFAR-10 Batch 4:  Loss: 0.5221872329711914 Validation Accuracy: 0.7210000157356262\n",
      "Epoch 16, CIFAR-10 Batch 5:  Loss: 0.44834083318710327 Validation Accuracy: 0.7253999710083008\n",
      "Epoch 17, CIFAR-10 Batch 1:  Loss: 0.5451944470405579 Validation Accuracy: 0.7026000022888184\n",
      "Epoch 17, CIFAR-10 Batch 2:  Loss: 0.38766568899154663 Validation Accuracy: 0.7224000096321106\n",
      "Epoch 17, CIFAR-10 Batch 3:  Loss: 0.25942927598953247 Validation Accuracy: 0.7214000225067139\n",
      "Epoch 17, CIFAR-10 Batch 4:  Loss: 0.4613424241542816 Validation Accuracy: 0.7271999716758728\n",
      "Epoch 17, CIFAR-10 Batch 5:  Loss: 0.4513367712497711 Validation Accuracy: 0.722000002861023\n",
      "Epoch 18, CIFAR-10 Batch 1:  Loss: 0.49565309286117554 Validation Accuracy: 0.7125999927520752\n",
      "Epoch 18, CIFAR-10 Batch 2:  Loss: 0.3798672556877136 Validation Accuracy: 0.7296000123023987\n",
      "Epoch 18, CIFAR-10 Batch 3:  Loss: 0.2493230402469635 Validation Accuracy: 0.7170000076293945\n",
      "Epoch 18, CIFAR-10 Batch 4:  Loss: 0.4429323673248291 Validation Accuracy: 0.7156000137329102\n",
      "Epoch 18, CIFAR-10 Batch 5:  Loss: 0.44710054993629456 Validation Accuracy: 0.723800003528595\n",
      "Epoch 19, CIFAR-10 Batch 1:  Loss: 0.46131616830825806 Validation Accuracy: 0.7161999940872192\n",
      "Epoch 19, CIFAR-10 Batch 2:  Loss: 0.4001995921134949 Validation Accuracy: 0.7239999771118164\n",
      "Epoch 19, CIFAR-10 Batch 3:  Loss: 0.29690322279930115 Validation Accuracy: 0.7107999920845032\n",
      "Epoch 19, CIFAR-10 Batch 4:  Loss: 0.45715847611427307 Validation Accuracy: 0.7235999703407288\n",
      "Epoch 19, CIFAR-10 Batch 5:  Loss: 0.3719564378261566 Validation Accuracy: 0.7193999886512756\n",
      "Epoch 20, CIFAR-10 Batch 1:  Loss: 0.46987050771713257 Validation Accuracy: 0.7269999980926514\n",
      "Epoch 20, CIFAR-10 Batch 2:  Loss: 0.36968523263931274 Validation Accuracy: 0.7279999852180481\n",
      "Epoch 20, CIFAR-10 Batch 3:  Loss: 0.18854489922523499 Validation Accuracy: 0.7214000225067139\n",
      "Epoch 20, CIFAR-10 Batch 4:  Loss: 0.3742222487926483 Validation Accuracy: 0.7239999771118164\n",
      "Epoch 20, CIFAR-10 Batch 5:  Loss: 0.3416031002998352 Validation Accuracy: 0.7193999886512756\n",
      "Epoch 21, CIFAR-10 Batch 1:  Loss: 0.43065810203552246 Validation Accuracy: 0.7085999846458435\n",
      "Epoch 21, CIFAR-10 Batch 2:  Loss: 0.3452237546443939 Validation Accuracy: 0.727400004863739\n",
      "Epoch 21, CIFAR-10 Batch 3:  Loss: 0.23378534615039825 Validation Accuracy: 0.7193999886512756\n",
      "Epoch 21, CIFAR-10 Batch 4:  Loss: 0.3988320827484131 Validation Accuracy: 0.7250000238418579\n",
      "Epoch 21, CIFAR-10 Batch 5:  Loss: 0.34475383162498474 Validation Accuracy: 0.7239999771118164\n",
      "Epoch 22, CIFAR-10 Batch 1:  Loss: 0.35953289270401 Validation Accuracy: 0.7103999853134155\n",
      "Epoch 22, CIFAR-10 Batch 2:  Loss: 0.3370595872402191 Validation Accuracy: 0.7239999771118164\n",
      "Epoch 22, CIFAR-10 Batch 3:  Loss: 0.19334986805915833 Validation Accuracy: 0.7235999703407288\n",
      "Epoch 22, CIFAR-10 Batch 4:  Loss: 0.306000292301178 Validation Accuracy: 0.728600025177002\n",
      "Epoch 22, CIFAR-10 Batch 5:  Loss: 0.35438695549964905 Validation Accuracy: 0.7139999866485596\n",
      "Epoch 23, CIFAR-10 Batch 1:  Loss: 0.33174604177474976 Validation Accuracy: 0.7289999723434448\n",
      "Epoch 23, CIFAR-10 Batch 2:  Loss: 0.2807987928390503 Validation Accuracy: 0.7143999934196472\n",
      "Epoch 23, CIFAR-10 Batch 3:  Loss: 0.20009703934192657 Validation Accuracy: 0.7228000164031982\n",
      "Epoch 23, CIFAR-10 Batch 4:  Loss: 0.349041223526001 Validation Accuracy: 0.7215999960899353\n",
      "Epoch 23, CIFAR-10 Batch 5:  Loss: 0.29890698194503784 Validation Accuracy: 0.7260000109672546\n",
      "Epoch 24, CIFAR-10 Batch 1:  Loss: 0.3513801693916321 Validation Accuracy: 0.7131999731063843\n",
      "Epoch 24, CIFAR-10 Batch 2:  Loss: 0.30510538816452026 Validation Accuracy: 0.7283999919891357\n",
      "Epoch 24, CIFAR-10 Batch 3:  Loss: 0.19256412982940674 Validation Accuracy: 0.7174000144004822\n",
      "Epoch 24, CIFAR-10 Batch 4:  Loss: 0.331410676240921 Validation Accuracy: 0.723800003528595\n",
      "Epoch 24, CIFAR-10 Batch 5:  Loss: 0.28959816694259644 Validation Accuracy: 0.728600025177002\n",
      "Epoch 25, CIFAR-10 Batch 1:  Loss: 0.35963714122772217 Validation Accuracy: 0.7084000110626221\n",
      "Epoch 25, CIFAR-10 Batch 2:  Loss: 0.3115585446357727 Validation Accuracy: 0.7044000029563904\n",
      "Epoch 25, CIFAR-10 Batch 3:  Loss: 0.1759229600429535 Validation Accuracy: 0.7179999947547913\n",
      "Epoch 25, CIFAR-10 Batch 4:  Loss: 0.30725228786468506 Validation Accuracy: 0.7233999967575073\n",
      "Epoch 25, CIFAR-10 Batch 5:  Loss: 0.32174742221832275 Validation Accuracy: 0.7193999886512756\n",
      "Epoch 26, CIFAR-10 Batch 1:  Loss: 0.3302902281284332 Validation Accuracy: 0.7206000089645386\n",
      "Epoch 26, CIFAR-10 Batch 2:  Loss: 0.27929285168647766 Validation Accuracy: 0.7088000178337097\n",
      "Epoch 26, CIFAR-10 Batch 3:  Loss: 0.16596081852912903 Validation Accuracy: 0.722000002861023\n",
      "Epoch 26, CIFAR-10 Batch 4:  Loss: 0.27552610635757446 Validation Accuracy: 0.7289999723434448\n",
      "Epoch 26, CIFAR-10 Batch 5:  Loss: 0.23133981227874756 Validation Accuracy: 0.724399983882904\n",
      "Epoch 27, CIFAR-10 Batch 1:  Loss: 0.31140416860580444 Validation Accuracy: 0.7166000008583069\n",
      "Epoch 27, CIFAR-10 Batch 2:  Loss: 0.2520615756511688 Validation Accuracy: 0.7283999919891357\n",
      "Epoch 27, CIFAR-10 Batch 3:  Loss: 0.1381712555885315 Validation Accuracy: 0.7369999885559082\n",
      "Epoch 27, CIFAR-10 Batch 4:  Loss: 0.24547366797924042 Validation Accuracy: 0.7301999926567078\n",
      "Epoch 27, CIFAR-10 Batch 5:  Loss: 0.21533039212226868 Validation Accuracy: 0.7289999723434448\n",
      "Epoch 28, CIFAR-10 Batch 1:  Loss: 0.3252595365047455 Validation Accuracy: 0.7077999711036682\n",
      "Epoch 28, CIFAR-10 Batch 2:  Loss: 0.28596749901771545 Validation Accuracy: 0.7161999940872192\n",
      "Epoch 28, CIFAR-10 Batch 3:  Loss: 0.14320309460163116 Validation Accuracy: 0.725600004196167\n",
      "Epoch 28, CIFAR-10 Batch 4:  Loss: 0.27898597717285156 Validation Accuracy: 0.7188000082969666\n",
      "Epoch 28, CIFAR-10 Batch 5:  Loss: 0.17566944658756256 Validation Accuracy: 0.7337999939918518\n",
      "Epoch 29, CIFAR-10 Batch 1:  Loss: 0.2621488571166992 Validation Accuracy: 0.7300000190734863\n",
      "Epoch 29, CIFAR-10 Batch 2:  Loss: 0.1967916041612625 Validation Accuracy: 0.7247999906539917\n",
      "Epoch 29, CIFAR-10 Batch 3:  Loss: 0.16243122518062592 Validation Accuracy: 0.7324000000953674\n",
      "Epoch 29, CIFAR-10 Batch 4:  Loss: 0.25807487964630127 Validation Accuracy: 0.7297999858856201\n",
      "Epoch 29, CIFAR-10 Batch 5:  Loss: 0.21924825012683868 Validation Accuracy: 0.722000002861023\n",
      "Epoch 30, CIFAR-10 Batch 1:  Loss: 0.28324365615844727 Validation Accuracy: 0.7113999724388123\n",
      "Epoch 30, CIFAR-10 Batch 2:  Loss: 0.17534437775611877 Validation Accuracy: 0.7247999906539917\n",
      "Epoch 30, CIFAR-10 Batch 3:  Loss: 0.1530543565750122 Validation Accuracy: 0.7282000184059143\n",
      "Epoch 30, CIFAR-10 Batch 4:  Loss: 0.26898059248924255 Validation Accuracy: 0.7210000157356262\n",
      "Epoch 30, CIFAR-10 Batch 5:  Loss: 0.15578238666057587 Validation Accuracy: 0.725600004196167\n"
     ]
    }
   ],
   "source": [
    "\"\"\"\n",
    "DON'T MODIFY ANYTHING IN THIS CELL\n",
    "\"\"\"\n",
    "save_model_path = './image_classification'\n",
    "\n",
    "print('Training...')\n",
    "with tf.Session() as sess:\n",
    "    # Initializing the variables\n",
    "    sess.run(tf.global_variables_initializer())\n",
    "    \n",
    "    # Training cycle\n",
    "    for epoch in range(epochs):\n",
    "        # Loop over all batches\n",
    "        n_batches = 5\n",
    "        for batch_i in range(1, n_batches + 1):\n",
    "            for batch_features, batch_labels in helper.load_preprocess_training_batch(batch_i, batch_size):\n",
    "                train_neural_network(sess, optimizer, keep_probability, batch_features, batch_labels)\n",
    "            print('Epoch {:>2}, CIFAR-10 Batch {}:  '.format(epoch + 1, batch_i), end='')\n",
    "            print_stats(sess, batch_features, batch_labels, cost, accuracy)\n",
    "            \n",
    "    # Save Model\n",
    "    saver = tf.train.Saver()\n",
    "    save_path = saver.save(sess, save_model_path)"
   ]
  },
  {
   "cell_type": "markdown",
   "metadata": {
    "deletable": true,
    "editable": true
   },
   "source": [
    "# Checkpoint\n",
    "The model has been saved to disk.\n",
    "## Test Model\n",
    "Test your model against the test dataset.  This will be your final accuracy. You should have an accuracy greater than 50%. If you don't, keep tweaking the model architecture and parameters."
   ]
  },
  {
   "cell_type": "code",
   "execution_count": 150,
   "metadata": {
    "collapsed": false,
    "deletable": true,
    "editable": true
   },
   "outputs": [
    {
     "name": "stdout",
     "output_type": "stream",
     "text": [
      "Testing Accuracy: 0.7226313694267515\n",
      "\n"
     ]
    },
    {
     "data": {
      "image/png": "[encoded data removed]",
      "text/plain": [
       "<matplotlib.figure.Figure at 0x7f37c5010ef0>"
      ]
     },
     "metadata": {
      "image/png": {
       "height": 319,
       "width": 355
      }
     },
     "output_type": "display_data"
    }
   ],
   "source": [
    "\"\"\"\n",
    "DON'T MODIFY ANYTHING IN THIS CELL\n",
    "\"\"\"\n",
    "%matplotlib inline\n",
    "%config InlineBackend.figure_format = 'retina'\n",
    "\n",
    "import tensorflow as tf\n",
    "import pickle\n",
    "import helper\n",
    "import random\n",
    "\n",
    "# Set batch size if not already set\n",
    "try:\n",
    "    if batch_size:\n",
    "        pass\n",
    "except NameError:\n",
    "    batch_size = 64\n",
    "\n",
    "save_model_path = './image_classification'\n",
    "n_samples = 4\n",
    "top_n_predictions = 3\n",
    "\n",
    "def test_model():\n",
    "    \"\"\"\n",
    "    Test the saved model against the test dataset\n",
    "    \"\"\"\n",
    "\n",
    "    test_features, test_labels = pickle.load(open('preprocess_training.p', mode='rb'))\n",
    "    loaded_graph = tf.Graph()\n",
    "\n",
    "    with tf.Session(graph=loaded_graph) as sess:\n",
    "        # Load model\n",
    "        loader = tf.train.import_meta_graph(save_model_path + '.meta')\n",
    "        loader.restore(sess, save_model_path)\n",
    "\n",
    "        # Get Tensors from loaded model\n",
    "        loaded_x = loaded_graph.get_tensor_by_name('x:0')\n",
    "        loaded_y = loaded_graph.get_tensor_by_name('y:0')\n",
    "        loaded_keep_prob = loaded_graph.get_tensor_by_name('keep_prob:0')\n",
    "        loaded_logits = loaded_graph.get_tensor_by_name('logits:0')\n",
    "        loaded_acc = loaded_graph.get_tensor_by_name('accuracy:0')\n",
    "        \n",
    "        # Get accuracy in batches for memory limitations\n",
    "        test_batch_acc_total = 0\n",
    "        test_batch_count = 0\n",
    "        \n",
    "        for train_feature_batch, train_label_batch in helper.batch_features_labels(test_features, test_labels, batch_size):\n",
    "            test_batch_acc_total += sess.run(\n",
    "                loaded_acc,\n",
    "                feed_dict={loaded_x: train_feature_batch, loaded_y: train_label_batch, loaded_keep_prob: 1.0})\n",
    "            test_batch_count += 1\n",
    "\n",
    "        print('Testing Accuracy: {}\\n'.format(test_batch_acc_total/test_batch_count))\n",
    "\n",
    "        # Print Random Samples\n",
    "        random_test_features, random_test_labels = tuple(zip(*random.sample(list(zip(test_features, test_labels)), n_samples)))\n",
    "        random_test_predictions = sess.run(\n",
    "            tf.nn.top_k(tf.nn.softmax(loaded_logits), top_n_predictions),\n",
    "            feed_dict={loaded_x: random_test_features, loaded_y: random_test_labels, loaded_keep_prob: 1.0})\n",
    "        helper.display_image_predictions(random_test_features, random_test_labels, random_test_predictions)\n",
    "\n",
    "\n",
    "test_model()"
   ]
  },
  {
   "cell_type": "markdown",
   "metadata": {
    "deletable": true,
    "editable": true
   },
   "source": [
    "## Why 50-80% Accuracy?\n",
    "You might be wondering why you can't get an accuracy any higher. First things first, 50% isn't bad for a simple CNN.  Pure guessing would get you 10% accuracy. However, you might notice people are getting scores [well above 80%](http://rodrigob.github.io/are_we_there_yet/build/classification_datasets_results.html#43494641522d3130).  That's because we haven't taught you all there is to know about neural networks. We still need to cover a few more techniques.\n",
    "## Submitting This Project\n",
    "When submitting this project, make sure to run all the cells before saving the notebook.  Save the notebook file as \"dlnd_image_classification.ipynb\" and save it as a HTML file under \"File\" -> \"Download as\".  Include the \"helper.py\" and \"problem_unittests.py\" files in your submission."
   ]
  }
 ],
 "metadata": {
  "anaconda-cloud": {},
  "kernelspec": {
   "display_name": "Python 3",
   "language": "python",
   "name": "python3"
  },
  "language_info": {
   "codemirror_mode": {
    "name": "ipython",
    "version": 3
   },
   "file_extension": ".py",
   "mimetype": "text/x-python",
   "name": "python",
   "nbconvert_exporter": "python",
   "pygments_lexer": "ipython3",
   "version": "3.5.2"
  },
  "widgets": {
   "state": {},
   "version": "1.1.2"
  }
 },
 "nbformat": 4,
 "nbformat_minor": 0
}
